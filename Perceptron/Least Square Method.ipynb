{
 "cells": [
  {
   "cell_type": "markdown",
   "metadata": {},
   "source": [
    "    Tiêu đề : Bài tập cá nhân 1\n",
    "    Họ tên  : Nguyễn Văn Hiếu\n",
    "    MSSV    : 1412166"
   ]
  },
  {
   "cell_type": "markdown",
   "metadata": {},
   "source": [
    "## Sử dụng phương pháp bình phương tối thiểu để tìm đường thẳng có độ fit tốt nhất\n",
    "1. Phát sinh tập điểm 2D D = {(xi,yi)|i = 1,2,...,n}\n",
    "2. Vẽ các điểm đó trên hệ tọa độ 2D"
   ]
  },
  {
   "cell_type": "code",
   "execution_count": 29,
   "metadata": {
    "collapsed": false
   },
   "outputs": [
    {
     "name": "stdout",
     "output_type": "stream",
     "text": [
      "Nhập số điểm cần phát sinh : 20\n"
     ]
    }
   ],
   "source": [
    "%matplotlib inline\n",
    "import numpy as np\n",
    "import matplotlib.pyplot as plt\n",
    "rang = 20\n",
    "minusRange = -20\n",
    "n = input(\"Nhập số điểm cần phát sinh : \")\n",
    "a = np.random.randint(-20,20,int(n))\n",
    "b = np.random.randint(-20,20,int(n))\n"
   ]
  },
  {
   "cell_type": "markdown",
   "metadata": {
    "collapsed": true
   },
   "source": [
    "## Tìm đường thẳng đi qua các điểm trên có độ fit tốt nhất\n",
    "1. Trình bày bài toán:\n",
    "    Cho n điểm (x,y) có sẵn trên mặt phẳng 2D.\n",
    "    Tìm đường thẳng tạo độ fit tốt nhất. Đường thẳng có độ fit tốt nhất là đường thẳng có tổng bình phương chênh lệch tung độ y nhỏ nhất\n",
    "2. Hướng giải quyết.\n",
    "    Đường thẳng có dạng : y = ax + b\n",
    "    Bài toán đưa ra là tìm các hệ số của đường thẳng sao cho tổng bình phương là nhỏ nhất.\n",
    "    Giá trị cần tính là : $$d = \\sum\\limits_{i=1}^{n}(y_i - (a + bx_i))^2$$\n",
    "    Để d đạt giá trị nhỏ nhất thì đạo hàm của d theo a và b = 0:$${\\partial\\over\\partial a}{\\sum\\limits_{i=1}^n(y_i - (a + bx_i))}^2 = 0 \\implies \\widehat{a} = \\bar{y} - \\widehat{b}\\bar{x}$$\n",
    "    Và $${\\partial\\over\\partial b}{\\sum\\limits_{i=1}^n(y_i - (a + bx_i))}^2 = 0 \\implies \\widehat{b} = {{\\sum\\limits_{i = 1}^n(x_i - \\bar{x})(y_i - \\bar{y})}\\over{\\sum\\limits_{i=1}^n(x_i - \\bar{x})^2}}$$\n",
    "    Thay vào phương trình đường thẳng ban đầu ta có được đường thẳng cần tìm: $$y = \\widehat{a}x + \\widehat{b}$$"
   ]
  },
  {
   "cell_type": "code",
   "execution_count": 34,
   "metadata": {
    "collapsed": false,
    "scrolled": true
   },
   "outputs": [
    {
     "data": {
      "image/png": "[encoded data removed]",
      "text/plain": [
       "<matplotlib.figure.Figure at 0x2542b6b39b0>"
      ]
     },
     "metadata": {},
     "output_type": "display_data"
    }
   ],
   "source": [
    "plt.plot(a,b,'ro')\n",
    "xtb = np.average(a)\n",
    "ytb = np.average(b)\n",
    "\n",
    "tu = 0;\n",
    "mau = 0;\n",
    "for index in range(int(n)):\n",
    "    tu = (a[index] - xtb)*(b[index] - ytb);\n",
    "    mau = (a[index] - xtb)**2\n",
    "    \n",
    "X = np.linspace(-20,20,1000)\n",
    "Y = ytb + (tu/mau)*(X - xtb)\n",
    "\n",
    "plt.plot(X,Y,'green')\n",
    "plt.show()"
   ]
  }
 ],
 "metadata": {
  "anaconda-cloud": {},
  "kernelspec": {
   "display_name": "Python [conda root]",
   "language": "python",
   "name": "conda-root-py"
  },
  "language_info": {
   "codemirror_mode": {
    "name": "ipython",
    "version": 2
   },
   "file_extension": ".py",
   "mimetype": "text/x-python",
   "name": "python",
   "nbconvert_exporter": "python",
   "pygments_lexer": "ipython2",
   "version": "2.7.12"
  }
 },
 "nbformat": 4,
 "nbformat_minor": 0
}
