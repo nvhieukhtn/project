{
 "cells": [
  {
   "cell_type": "markdown",
   "metadata": {},
   "source": [
    "    Tiêu đề : Bài tập Project cá nhân\n",
    "    Họ và tên : Nguyễn Văn Hiếu\n",
    "    MSSV : 1412166\n",
    "    Phiên bản : Python 2.7"
   ]
  },
  {
   "cell_type": "markdown",
   "metadata": {},
   "source": [
    "## Nhận dạng giới tính\n",
    "I. Phát biểu bài toán\n",
    "    - Nhận dạng giới tính của một ảnh khuôn mặt mới trên cơ sở ảnh đã học hay huấn luyện thử nghiệm trên cơ sở dữ liệu ảnh FERET 1996\n",
    "    - Tập huấn luyện ảnh gallery \n",
    "    - Tập ảnh kiểm tra : DUP1, DUP2, FB, FC\n",
    "    - Sử dụng phương pháp PCA để rút trích đặc trưng sau đó sử dụng SVM để phân loại ảnh\n",
    "    - Các kernel sử dụng :\n",
    "        - Linear :\n",
    "$$ <x,x'> = x^Tx' $$\n",
    "        - Polynomial:\n",
    "$$ <x, x'> = (x^Tx' + 1)^d $$\n",
    "        - Radial Basic:\n",
    "$$ <x, x'> = exp(-\\frac{|x - x'|^2}{2\\sigma^2}) $$\n",
    "        - Sigmoid: \n",
    "$$ <x, x'> = tanh(ax^Tx' + b) $$"
   ]
  },
  {
   "cell_type": "markdown",
   "metadata": {},
   "source": [
    "II. Kết quả\n",
    "- Với n_components = 30      Thời gian chạy 19s\n",
    "    \n",
    "| Tập test      | RBF           | Polynomial  |Sigmoid   |Linear      |\n",
    "|:------------- |:-------------:|:-----------:|:--------:|:----------:|\n",
    "| DUP1          | 89.8892 %     |86.1496 %    | 80.7479 %|88.7812 %   |\n",
    "| DUP2          | 90.1709  %    |82.4786 %    |80.3419 % |91.4530 %   |\n",
    "| FB            | 90.7113 %     |80.5858 %    |68.2845 % |84.9372 %   |\n",
    "| FC            | 78.8660 %     |71.1340 %    |63.9175 % |80.4124 %   |\n",
    "\n",
    "- Với n_components = 50     Thời gian chạy 20s\n",
    "    \n",
    "| Tập test      | RBF           | Polynomial  |Sigmoid   |Linear      |\n",
    "|:------------- |:-------------:|:-----------:|:--------:|:----------:|\n",
    "| DUP1          | 90.5817 %     |84.2105 %    | 80.7479 %|89.3352 %   |\n",
    "| DUP2          | 90.5983  %    |84.1880 %    |80.3419 % |90.1709 %   |\n",
    "| FB            | 92.1339 %     |78.1590 %    |68.2845 % |86.0251 %   |\n",
    "| FC            | 86.5979 %     |65.9794 %    |63.9175 % |80.9278 %   |\n",
    "\n",
    "- Nhận xét:\n",
    "    - Khi số chiều tăng lên thì thời gian chạy sẽ tăng lên và độ chính xác tăng lên\n",
    "    - Ta thấy với một số chiều khác nhau và kernel khác nhau sẽ cho ra kết quả dự đoán khác nhau.\n",
    "    - Kết quả sẽ tăng khi tăng số chiều lên nhưng đến một giới hạn sẽ bắt đầu giảm."
   ]
  },
  {
   "cell_type": "markdown",
   "metadata": {},
   "source": [
    "III. Lưu ý khi chạy\n",
    "    - Cách tổ chức chương trình\n",
    "    \n",
    "```\n",
    "1412166\n",
    "│     \n",
    "│\n",
    "└───code\n",
    "│   │   Bai1.py\n",
    "│   │   Bai1.ipynb\n",
    "│   │   Bai2.py\n",
    "│   │   Bai2.ipynb\n",
    "│   \n",
    "│───test\n",
    "│   │───dup1\n",
    "│   │     │ xxxxxx.jpg\n",
    "│   │     │ target.txt\n",
    "│   │───dup2\n",
    "│   │     │ xxxxxx.jpg\n",
    "│   │     │ target.txt\n",
    "│   │───fb\n",
    "│   │     │ xxxxxx.jpg\n",
    "│   │     │ target.txt\n",
    "│   │───fc\n",
    "│   │     │ xxxxxx.jpg\n",
    "│   │     │ target.txt\n",
    "│\n",
    "│───train\n",
    "│   │ xxxx.jpg\n",
    "│   │ target.txt\n",
    "```\n",
    "        - Trong mỗi tập test và tập train sẽ có 1 file tên là target.txt đẻ gán nhãn cho đối tượng. 0 là nữ , 1 là nam\n",
    "\n",
    "        - Tập train và test phải là tập các ảnh grayscale định dạng jpg"
   ]
  },
  {
   "cell_type": "code",
   "execution_count": 1,
   "metadata": {
    "collapsed": true
   },
   "outputs": [],
   "source": [
    "import datetime\n",
    "import glob\n",
    "import os\n",
    "import warnings\n",
    "import cv2\n",
    "import numpy as np\n",
    "from sklearn import svm\n",
    "from sklearn.decomposition import PCA\n",
    "\n",
    "warnings.filterwarnings(\"ignore\")\n",
    "\n",
    "\n",
    "class Svm:\n",
    "    def __init__(self, datasets, sexs, kernel):\n",
    "        self.datasets = datasets\n",
    "        self.sexs = sexs\n",
    "        self.svm_obj = svm.SVC(kernel=kernel, C=1.0)\n",
    "        self.svm_obj.fit(datasets, sexs)\n",
    "\n",
    "    def classify(self, examples):\n",
    "        sexs_predict = self.svm_obj.predict(examples)\n",
    "        return sexs_predict\n",
    "\n",
    "\n",
    "class Data:\n",
    "    def __init__(self, directory):\n",
    "        self.directory = directory\n",
    "        self.datasets = []\n",
    "        self.sexs = []\n",
    "\n",
    "    def load(self):\n",
    "        os.chdir(self.directory)\n",
    "        for image in glob.glob(\"*.jpg\"):\n",
    "            pixel = cv2.imread(image, cv2.CV_LOAD_IMAGE_GRAYSCALE)\n",
    "            self.datasets.insert(self.datasets.__len__(), pixel.flatten())\n",
    "        file_target = 'target.txt'\n",
    "        self.sexs = np.loadtxt(fname=file_target, dtype=int)\n",
    "        os.chdir('../..')\n",
    "\n",
    "\n",
    "class Recognition:\n",
    "    def __init__(self, component):\n",
    "        self.pca = PCA(n_components=component, whiten=True)\n",
    "        self.training = []\n",
    "        self.sexs = []\n",
    "\n",
    "    def train(self, datasets, sexs):\n",
    "        self.pca.fit(datasets)\n",
    "        self.training = self.pca.transform(datasets)\n",
    "        self.sexs = sexs\n",
    "\n",
    "    def predict(self, examples, sexs, kernel):\n",
    "        results = self.pca.transform(examples)\n",
    "        svm = Svm(self.training, self.sexs, kernel)\n",
    "        sexs_predict = svm.classify(results)\n",
    "        return self.caculate_accuracy(sexs, sexs_predict)\n",
    "\n",
    "    def compare(self, sex, sex_predict):\n",
    "        if sex == sex_predict:\n",
    "            return 1\n",
    "        return 0\n",
    "\n",
    "    def caculate_accuracy(self, sexs, sexs_predict):\n",
    "        correct = np.sum(np.array([self.compare(sexs[i], sexs_predict[i]) for i in range(len(sexs))]))\n",
    "        accuracy = float(correct) / len(sexs)\n",
    "        return accuracy\n",
    "\n",
    "\n",
    "def test(folder):\n",
    "    dir = 'test/' + folder\n",
    "    test_datasets = Data(dir)\n",
    "    test_datasets.load()\n",
    "    print(\"============%s=================\" % (folder.upper()))\n",
    "    accuracy_1 = reg.predict(test_datasets.datasets, test_datasets.sexs, 'rbf')\n",
    "    print(\"Kernel RBF \\t Accuracy : %f \" %(accuracy_1))\n",
    "    accuracy_2 = reg.predict(test_datasets.datasets, test_datasets.sexs, 'poly')\n",
    "    print(\"Kernel Poly \\t Accuracy : %f \" % (accuracy_2))\n",
    "    accuracy_3 = reg.predict(test_datasets.datasets, test_datasets.sexs, 'sigmoid')\n",
    "    print(\"Kernel Sigmoid \\t Accuracy : %f \" % (accuracy_3))\n",
    "    accuracy_4 = reg.predict(test_datasets.datasets, test_datasets.sexs, 'linear')\n",
    "    print(\"Kernel Linear \\t Accuracy : %f \" % (accuracy_4))\n",
    "\n",
    "os.chdir('..')\n",
    "train_datasets = Data('train/gallery')\n",
    "train_datasets.load()\n",
    "reg = Recognition(30)\n",
    "reg.train(train_datasets.datasets, train_datasets.sexs)"
   ]
  },
  {
   "cell_type": "code",
   "execution_count": 2,
   "metadata": {
    "collapsed": false
   },
   "outputs": [
    {
     "name": "stdout",
     "output_type": "stream",
     "text": [
      "============DUP1=================\n",
      "Kernel RBF \t Accuracy : 0.898892 \n",
      "Kernel Poly \t Accuracy : 0.861496 \n",
      "Kernel Sigmoid \t Accuracy : 0.807479 \n",
      "Kernel Linear \t Accuracy : 0.887812 \n"
     ]
    }
   ],
   "source": [
    "test('dup1')"
   ]
  },
  {
   "cell_type": "code",
   "execution_count": 3,
   "metadata": {
    "collapsed": false
   },
   "outputs": [
    {
     "name": "stdout",
     "output_type": "stream",
     "text": [
      "============DUP2=================\n",
      "Kernel RBF \t Accuracy : 0.901709 \n",
      "Kernel Poly \t Accuracy : 0.824786 \n",
      "Kernel Sigmoid \t Accuracy : 0.803419 \n",
      "Kernel Linear \t Accuracy : 0.914530 \n"
     ]
    }
   ],
   "source": [
    "test('dup2')"
   ]
  },
  {
   "cell_type": "code",
   "execution_count": 4,
   "metadata": {
    "collapsed": false
   },
   "outputs": [
    {
     "name": "stdout",
     "output_type": "stream",
     "text": [
      "============FB=================\n",
      "Kernel RBF \t Accuracy : 0.907113 \n",
      "Kernel Poly \t Accuracy : 0.805858 \n",
      "Kernel Sigmoid \t Accuracy : 0.682845 \n",
      "Kernel Linear \t Accuracy : 0.849372 \n"
     ]
    }
   ],
   "source": [
    "test('fb')"
   ]
  },
  {
   "cell_type": "code",
   "execution_count": 5,
   "metadata": {
    "collapsed": false
   },
   "outputs": [
    {
     "name": "stdout",
     "output_type": "stream",
     "text": [
      "============FC=================\n",
      "Kernel RBF \t Accuracy : 0.788660 \n",
      "Kernel Poly \t Accuracy : 0.711340 \n",
      "Kernel Sigmoid \t Accuracy : 0.639175 \n",
      "Kernel Linear \t Accuracy : 0.804124 \n"
     ]
    }
   ],
   "source": [
    "test('fc')"
   ]
  }
 ],
 "metadata": {
  "anaconda-cloud": {},
  "kernelspec": {
   "display_name": "Python [conda root]",
   "language": "python",
   "name": "conda-root-py"
  },
  "language_info": {
   "codemirror_mode": {
    "name": "ipython",
    "version": 2
   },
   "file_extension": ".py",
   "mimetype": "text/x-python",
   "name": "python",
   "nbconvert_exporter": "python",
   "pygments_lexer": "ipython2",
   "version": "2.7.12"
  }
 },
 "nbformat": 4,
 "nbformat_minor": 1
}
