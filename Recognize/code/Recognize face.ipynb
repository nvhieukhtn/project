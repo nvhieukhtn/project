{
 "cells": [
  {
   "cell_type": "markdown",
   "metadata": {},
   "source": [
    "    Tiêu đề : Bài tập Project cá nhân\n",
    "    Họ và tên : Nguyễn Văn Hiếu\n",
    "    MSSV : 1412166\n",
    "    Phiên bản : Python 2.7    "
   ]
  },
  {
   "cell_type": "markdown",
   "metadata": {},
   "source": [
    "## Nhận dạng khuôn mặt\n",
    "I. Phát biểu bài toán:\n",
    "    - Nhận dạng định danh của khuôn mặt trên cơ sở ảnh đã học hay huấn luyện thử nghiệm trên cơ sở dữ liệu ảnh FERET 1996\n",
    "    - Tập ảnh huấn luyện : gallery\n",
    "    - Tập ảnh kiểm tra : FB, FC, DUP1, DUP2\n",
    "    - Các phương pháp đã sử dụng : PCA để rút trích đặc trưng của ảnh và K-NN để nhận dạng ảnh\n",
    "    - Các độ đo sử dụng:\n",
    "        - City Block : \n",
    "$$ d(x,y) = |x - y| = \\sum\\limits_{i = 1}^{n}|x_i - y_i| $$\n",
    "        - Euclidiean : \n",
    "$$ d(x,y) = |x - y|^2 = \\sum\\limits_{i = 1}^{n}(x_i - y_i)^2 $$\n",
    "        - Cosine :\n",
    "$$ d(x,y) = - \\frac{xy}{|x||y|} = - \\frac{\\sum\\limits_{i = 1}^{n}{x_i}{y_i}}{({\\sum\\limits_{i = 1}^{n}{x_i}^2}{\\sum\\limits_{i = 1}^{n}{y_i}^2})^{\\frac{1}{2}}} $$\n",
    "        - Manhalanobis : \n",
    "$$ d(x,y) = - \\sum\\limits_{i = 1}^{n}{x_i}{y_i}{z_i} $$ \n",
    "$$ \\text{với }z_i = {\\lambda_i}^{-\\frac{1}{2}} \\text{ và } \\lambda_i \\text{ là giá trị riêng thứ i} $$"
   ]
  },
  {
   "cell_type": "markdown",
   "metadata": {},
   "source": [
    "II. Kết quả\n",
    "- Với n_components = 50   Thời gian chạy : 80s\n",
    "    \n",
    "| Tập test      | City Block    | Euclidiean  |Cosine    |Manhalanobis|\n",
    "|:------------- |:-------------:|:-----------:|:--------:|:----------:|\n",
    "| DUP1          | 35.0416 %     |35.8726 %    | 41.6898 %|            |\n",
    "| DUP2          | 13.2479  %    |13.2479 %    |24.7863 % |            |\n",
    "| FB            | 74.8954 %     |75.3138 %    |75.3138 % |            |\n",
    "| FC            | 23.7113 %     |27.8351 %    |46.9072 % |            |\n",
    "\n",
    "\n",
    "- Với n_components = 100    Thời gian chạy 95s\n",
    "    \n",
    "| Tập test      | City Block    | Euclidiean  |Cosine    |Manhalanobis|\n",
    "|:------------- |:-------------:|:-----------:|:--------:|:----------:|\n",
    "| DUP1          | 34.7645 %     |36.0111 %    | 46.9529 %|            |\n",
    "| DUP2          | 15.8120  %    |15.8120 %    |27.7778 % |            |\n",
    "| FB            | 74.2259 %     |74.4770 %    |83.4310 % |            |\n",
    "| FC            | 17.5258 %     |17.5258 %    |54.6392 % |            |\n",
    "\n",
    "- Nhận xét\n",
    "    - Khi số chiều tăng lên thì thời gian chạy sẽ tăng lên và độ chính xác tăng lên\n",
    "    - Các độ đo City Block và Euclidian có tỉ lệ đúng gần bằng nhau.\n",
    "    - Độ đo cosine cho kết quả có xác suất đúng cao nhất"
   ]
  },
  {
   "cell_type": "markdown",
   "metadata": {},
   "source": [
    "III. Lưu ý khi chạy\n",
    "    - Cách tổ chức chương trình\n",
    "    \n",
    "```\n",
    "1412166\n",
    "│     \n",
    "│\n",
    "└───code\n",
    "│   │   Bai1.py\n",
    "│   │   Bai1.ipynb\n",
    "│   │   Bai2.py\n",
    "│   │   Bai2.ipynb\n",
    "│   \n",
    "│───test\n",
    "│   │───dup1\n",
    "│   │     │ xxxxxx.jpg\n",
    "│   │───dup2\n",
    "│   │     │ xxxxxx.jpg\n",
    "│   │───fb\n",
    "│   │     │ xxxxxx.jpg\n",
    "│   │───fc\n",
    "│   │     │ xxxxxx.jpg\n",
    "│\n",
    "│───train\n",
    "│   │ xxxx.jpg\n",
    "```\n",
    "Tập train và test phải là tập các ảnh grayscale định dạng $\\color{red}{jpg}$"
   ]
  },
  {
   "cell_type": "code",
   "execution_count": 1,
   "metadata": {
    "collapsed": true
   },
   "outputs": [],
   "source": [
    "import datetime\n",
    "import glob\n",
    "import math\n",
    "import os\n",
    "import warnings\n",
    "\n",
    "import cv2\n",
    "import numpy as np\n",
    "from sklearn.decomposition import PCA\n",
    "\n",
    "warnings.filterwarnings(\"ignore\")\n",
    "\n",
    "\n",
    "class Distance:\n",
    "    @staticmethod\n",
    "    def city_block(example_1, example_2):\n",
    "        return np.sum(np.abs(example_1 - example_2))\n",
    "\n",
    "    @staticmethod\n",
    "    def euclidean(example_1, example_2):\n",
    "        return np.sum(np.abs(example_1 - example_2)**2)\n",
    "\n",
    "    @staticmethod\n",
    "    def cosine(example_1, example_2):\n",
    "        sum_mul = np.sum(np.array(example_1)*np.array(example_2))\n",
    "        sum_square_x = np.sum(np.array(example_1)**2)\n",
    "        sum_square_y = np.sum(np.array(example_2)**2)\n",
    "        return (-1.0) * sum_mul / math.sqrt(sum_square_x * sum_square_y)\n",
    "\n",
    "\n",
    "    @staticmethod\n",
    "    def mahalanobis(a, b):\n",
    "        return 0\n",
    "\n",
    "\n",
    "class Knn:\n",
    "    def __init__(self, distance, datasets, names):\n",
    "        self.func = distance\n",
    "        self.datasets = datasets\n",
    "        self.names = names\n",
    "\n",
    "    def predict(self, example):\n",
    "        weights = np.array([self.func(example, dataset) for dataset in self.datasets])\n",
    "        index = np.argmin(weights)\n",
    "        return self.names[index]\n",
    "\n",
    "    def classify(self, examples):\n",
    "        names_predict = np.array([self.predict(example) for example in examples])\n",
    "        return names_predict\n",
    "\n",
    "\n",
    "class Data:\n",
    "    def __init__(self, directory):\n",
    "        self.directory = directory\n",
    "        self.images = []\n",
    "        self.datasets = []\n",
    "\n",
    "    def load(self):\n",
    "        os.chdir(self.directory)\n",
    "        for image in glob.glob(\"*.jpg\"):\n",
    "            self.images.insert(self.images.__len__(), image)\n",
    "            pixel = cv2.imread(image, cv2.CV_LOAD_IMAGE_GRAYSCALE)\n",
    "            self.datasets.insert(self.datasets.__len__(), pixel.flatten())\n",
    "        os.chdir('../..')\n",
    "\n",
    "\n",
    "class Recognition:\n",
    "    def __init__(self, component):\n",
    "        self.pca = PCA(n_components=component, whiten=True)\n",
    "        self.training = []\n",
    "        self.names = []\n",
    "\n",
    "    def train(self, datasets, names):\n",
    "        self.pca.fit(datasets)\n",
    "        self.training = self.pca.transform(datasets)\n",
    "        self.names = names\n",
    "\n",
    "    def predict(self, examples, distance,names):\n",
    "        results = self.pca.transform(examples)\n",
    "        knn = Knn(distance, self.training, self.names)\n",
    "        names_predict = knn.classify(results)\n",
    "        return self.caculate_accuracy(names, names_predict)\n",
    "\n",
    "    def compare(self, name, name_predict):\n",
    "        if name[0:5] == name_predict[0:5]:\n",
    "            return 1\n",
    "        return 0\n",
    "\n",
    "    def caculate_accuracy(self, names, names_predict):\n",
    "        correct = np.sum(np.array([self.compare(names[i], names_predict[i]) for i in range(len(names))]))\n",
    "        accuracy = float(correct) / len(names)\n",
    "        return accuracy\n",
    "\n",
    "\n",
    "def test(folder):\n",
    "    dir = 'test/' + folder\n",
    "    test_datasets = Data(dir)\n",
    "    test_datasets.load()\n",
    "    print(\"============%s=================\" %(folder.upper()))\n",
    "    accuracy_1 = reg.predict(test_datasets.datasets, Distance.city_block, test_datasets.images)\n",
    "    print(\"Distance Function : %s\\tAccuracy : %f\\n\" %(\"City Block\", accuracy_1))\n",
    "\n",
    "    accuracy_2 = reg.predict(test_datasets.datasets, Distance.euclidean, test_datasets.images)\n",
    "    print(\"Distance Function : %s\\tAccuracy : %f\\n\" % (\"Euclidean\", accuracy_2))\n",
    "\n",
    "    accuracy_3 = reg.predict(test_datasets.datasets, Distance.cosine, test_datasets.images)\n",
    "    print(\"Distance Function : %s\\tAccuracy : %f\\n\" % (\"Cosine\", accuracy_3))\n",
    "\n",
    "os.chdir('..')\n",
    "train_datasets = Data('train/gallery')\n",
    "train_datasets.load()\n",
    "reg = Recognition(50)\n",
    "reg.train(train_datasets.datasets, train_datasets.images)"
   ]
  },
  {
   "cell_type": "code",
   "execution_count": 2,
   "metadata": {
    "collapsed": false
   },
   "outputs": [
    {
     "name": "stdout",
     "output_type": "stream",
     "text": [
      "============DUP1=================\n",
      "Distance Function : City Block\tAccuracy : 0.350416\n",
      "\n",
      "Distance Function : Euclidean\tAccuracy : 0.358726\n",
      "\n",
      "Distance Function : Cosine\tAccuracy : 0.416898\n",
      "\n"
     ]
    }
   ],
   "source": [
    "test('dup1')"
   ]
  },
  {
   "cell_type": "code",
   "execution_count": 3,
   "metadata": {
    "collapsed": false
   },
   "outputs": [
    {
     "name": "stdout",
     "output_type": "stream",
     "text": [
      "============DUP2=================\n",
      "Distance Function : City Block\tAccuracy : 0.132479\n",
      "\n",
      "Distance Function : Euclidean\tAccuracy : 0.132479\n",
      "\n",
      "Distance Function : Cosine\tAccuracy : 0.247863\n",
      "\n"
     ]
    }
   ],
   "source": [
    "test('dup2')"
   ]
  },
  {
   "cell_type": "code",
   "execution_count": 4,
   "metadata": {
    "collapsed": false
   },
   "outputs": [
    {
     "name": "stdout",
     "output_type": "stream",
     "text": [
      "============FB=================\n",
      "Distance Function : City Block\tAccuracy : 0.748954\n",
      "\n",
      "Distance Function : Euclidean\tAccuracy : 0.753138\n",
      "\n",
      "Distance Function : Cosine\tAccuracy : 0.791632\n",
      "\n"
     ]
    }
   ],
   "source": [
    "test('fb')"
   ]
  },
  {
   "cell_type": "code",
   "execution_count": 5,
   "metadata": {
    "collapsed": false
   },
   "outputs": [
    {
     "name": "stdout",
     "output_type": "stream",
     "text": [
      "============FC=================\n",
      "Distance Function : City Block\tAccuracy : 0.237113\n",
      "\n",
      "Distance Function : Euclidean\tAccuracy : 0.278351\n",
      "\n",
      "Distance Function : Cosine\tAccuracy : 0.469072\n",
      "\n"
     ]
    }
   ],
   "source": [
    "test('fc')"
   ]
  }
 ],
 "metadata": {
  "anaconda-cloud": {},
  "kernelspec": {
   "display_name": "Python [conda root]",
   "language": "python",
   "name": "conda-root-py"
  },
  "language_info": {
   "codemirror_mode": {
    "name": "ipython",
    "version": 2
   },
   "file_extension": ".py",
   "mimetype": "text/x-python",
   "name": "python",
   "nbconvert_exporter": "python",
   "pygments_lexer": "ipython2",
   "version": "2.7.12"
  }
 },
 "nbformat": 4,
 "nbformat_minor": 1
}
